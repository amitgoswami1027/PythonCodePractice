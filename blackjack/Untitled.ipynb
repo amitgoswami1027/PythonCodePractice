{
 "cells": [
  {
   "cell_type": "code",
   "execution_count": 6,
   "id": "185f64b4",
   "metadata": {},
   "outputs": [
    {
     "name": "stdout",
     "output_type": "stream",
     "text": [
      " Your cards: [6, 6], current score: 12\n",
      " Computer's first card: 4\n",
      "Type 'y' to get another card, tyoe 'n'to pass: y\n",
      " Your cards: [6, 6, 8], current score: 20\n",
      " Computer's first card: 4\n",
      "Type 'y' to get another card, tyoe 'n'to pass: n\n"
     ]
    }
   ],
   "source": [
    "# Create s deal_card() unction that uses the List below to return a random card.\n",
    "import random\n",
    "\n",
    "# Create a function called calculate_score() that takes a list of cards as input and returns the score.\n",
    "# Lookup the sum() function to help you do this.\n",
    "\n",
    "\n",
    "def calculate_score(cards):\n",
    "    # Inside calculate_score() check for a blackjack ( a hand with only 2 cards: ace +10) \n",
    "    # and return 0 instead of the actual score. ) will represent a backjack in our game.\n",
    "    \n",
    "    if sum(cards) == 21 and len(cards) ==2:\n",
    "        return 0\n",
    "    \n",
    "    # Inside calculate_score() check for an 11(ace). If the score is already over 21, remove \n",
    "    # the 11 and replace it with a 1. \n",
    "    if 11 in cards and sum(cards) > 21:\n",
    "        cards.remove(11)\n",
    "        cards.append(1)\n",
    "    \n",
    "    return sum(cards)\n",
    "\n",
    "\n",
    "def deal_card():\n",
    "    \"\"\"\" Returns a random card from the deck \"\"\"\n",
    "    cards = [11,2,3,4,5,6,7,8,9,10,10,10,10]\n",
    "    card = random.choice(cards)\n",
    "    return card\n",
    "\n",
    "# Deal the user and computer 2 cards each using deal_card()\n",
    "user_card = []\n",
    "computer_card = []\n",
    "is_game_over = False\n",
    "\n",
    "for _ in range(2):\n",
    "    user_card.append(deal_card())\n",
    "    computer_card.append(deal_card())\n",
    "    \n",
    "while not is_game_over:\n",
    "    \n",
    "    user_score = calculate_score(user_card)\n",
    "    computer_score = calculate_score(computer_card)\n",
    "\n",
    "    print(f\" Your cards: {user_card}, current score: {user_score}\")\n",
    "    print(f\" Computer's first card: {computer_card[0]}\")\n",
    "\n",
    "    if user_score == 0 or computer_score == 0 or user_score > 21:\n",
    "        is_game_over = True\n",
    "    else:\n",
    "        user_should_deal = input(\"Type 'y' to get another card, tyoe 'n'to pass: \")\n",
    "\n",
    "\n",
    "        if user_should_deal == \"y\":\n",
    "            user_card.append(deal_card())\n",
    "        else:\n",
    "            is_game_over = True\n",
    "    \n"
   ]
  },
  {
   "cell_type": "code",
   "execution_count": null,
   "id": "abaa1b06",
   "metadata": {},
   "outputs": [],
   "source": [
    "\n"
   ]
  }
 ],
 "metadata": {
  "kernelspec": {
   "display_name": "Python 3",
   "language": "python",
   "name": "python3"
  },
  "language_info": {
   "codemirror_mode": {
    "name": "ipython",
    "version": 3
   },
   "file_extension": ".py",
   "mimetype": "text/x-python",
   "name": "python",
   "nbconvert_exporter": "python",
   "pygments_lexer": "ipython3",
   "version": "3.9.13"
  }
 },
 "nbformat": 4,
 "nbformat_minor": 5
}
